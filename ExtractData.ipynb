{
 "cells": [
  {
   "cell_type": "code",
   "execution_count": null,
   "metadata": {},
   "outputs": [],
   "source": [
    "import pandas as pd\n",
    "from pathlib import Path\n",
    "import os\n",
    "import glob\n",
    "\n"
   ]
  },
  {
   "cell_type": "code",
   "execution_count": 22,
   "metadata": {},
   "outputs": [],
   "source": [
    "# Display all of the columns\n",
    "pd.set_option('display.max_columns', None)\n",
    "\n",
    "pd.set_option('display.max_rows', 60)"
   ]
  },
  {
   "cell_type": "code",
   "execution_count": null,
   "metadata": {},
   "outputs": [],
   "source": [
    "# Disable warnings\n",
    "import warnings\n",
    "warnings.filterwarnings('ignore')"
   ]
  },
  {
   "cell_type": "code",
   "execution_count": 6,
   "metadata": {},
   "outputs": [
    {
     "name": "stdout",
     "output_type": "stream",
     "text": [
      "1 Resources\\202401-citibike-tripdata.csv\n",
      "2 Resources\\202402-citibike-tripdata.csv\n",
      "3 Resources\\202403-citibike-tripdata.csv\n",
      "4 Resources\\202404-citibike-tripdata.csv\n",
      "5 Resources\\202405-citibike-tripdata_1.csv\n",
      "6 Resources\\202405-citibike-tripdata_2.csv\n",
      "7 Resources\\202405-citibike-tripdata_3.csv\n",
      "8 Resources\\202405-citibike-tripdata_4.csv\n",
      "9 Resources\\202405-citibike-tripdata_5.csv\n",
      "10 Resources\\202406-citibike-tripdata_1.csv\n",
      "11 Resources\\202406-citibike-tripdata_2.csv\n",
      "12 Resources\\202406-citibike-tripdata_3.csv\n",
      "13 Resources\\202406-citibike-tripdata_4.csv\n",
      "14 Resources\\202406-citibike-tripdata_5.csv\n"
     ]
    },
    {
     "data": {
      "text/html": [
       "<div>\n",
       "<style scoped>\n",
       "    .dataframe tbody tr th:only-of-type {\n",
       "        vertical-align: middle;\n",
       "    }\n",
       "\n",
       "    .dataframe tbody tr th {\n",
       "        vertical-align: top;\n",
       "    }\n",
       "\n",
       "    .dataframe thead th {\n",
       "        text-align: right;\n",
       "    }\n",
       "</style>\n",
       "<table border=\"1\" class=\"dataframe\">\n",
       "  <thead>\n",
       "    <tr style=\"text-align: right;\">\n",
       "      <th></th>\n",
       "      <th>ride_id</th>\n",
       "      <th>rideable_type</th>\n",
       "      <th>started_at</th>\n",
       "      <th>ended_at</th>\n",
       "      <th>start_station_name</th>\n",
       "      <th>start_station_id</th>\n",
       "      <th>end_station_name</th>\n",
       "      <th>end_station_id</th>\n",
       "      <th>start_lat</th>\n",
       "      <th>start_lng</th>\n",
       "      <th>end_lat</th>\n",
       "      <th>end_lng</th>\n",
       "      <th>member_casual</th>\n",
       "    </tr>\n",
       "  </thead>\n",
       "  <tbody>\n",
       "    <tr>\n",
       "      <th>0</th>\n",
       "      <td>5078F3D302000BD2</td>\n",
       "      <td>electric_bike</td>\n",
       "      <td>2024-01-22 18:43:19.012</td>\n",
       "      <td>2024-01-22 18:48:10.708</td>\n",
       "      <td>Frederick Douglass Blvd &amp; W 145 St</td>\n",
       "      <td>7954.12</td>\n",
       "      <td>St Nicholas Ave &amp; W 126 St</td>\n",
       "      <td>7756.10</td>\n",
       "      <td>40.823072</td>\n",
       "      <td>-73.941738</td>\n",
       "      <td>40.811432</td>\n",
       "      <td>-73.951878</td>\n",
       "      <td>member</td>\n",
       "    </tr>\n",
       "    <tr>\n",
       "      <th>1</th>\n",
       "      <td>814337105D37302A</td>\n",
       "      <td>electric_bike</td>\n",
       "      <td>2024-01-11 19:19:18.721</td>\n",
       "      <td>2024-01-11 19:47:36.007</td>\n",
       "      <td>W 54 St &amp; 6 Ave</td>\n",
       "      <td>6771.13</td>\n",
       "      <td>E 74 St &amp; 1 Ave</td>\n",
       "      <td>6953.08</td>\n",
       "      <td>40.761822</td>\n",
       "      <td>-73.977036</td>\n",
       "      <td>40.768974</td>\n",
       "      <td>-73.954823</td>\n",
       "      <td>member</td>\n",
       "    </tr>\n",
       "    <tr>\n",
       "      <th>2</th>\n",
       "      <td>A33A920E2B10710C</td>\n",
       "      <td>electric_bike</td>\n",
       "      <td>2024-01-30 19:17:41.693</td>\n",
       "      <td>2024-01-30 19:32:49.857</td>\n",
       "      <td>E 11 St &amp; Ave B</td>\n",
       "      <td>5659.11</td>\n",
       "      <td>W 10 St &amp; Washington St</td>\n",
       "      <td>5847.06</td>\n",
       "      <td>40.727592</td>\n",
       "      <td>-73.979751</td>\n",
       "      <td>40.733424</td>\n",
       "      <td>-74.008515</td>\n",
       "      <td>casual</td>\n",
       "    </tr>\n",
       "    <tr>\n",
       "      <th>3</th>\n",
       "      <td>A3A5FC0DD7D34D74</td>\n",
       "      <td>electric_bike</td>\n",
       "      <td>2024-01-27 11:27:01.759</td>\n",
       "      <td>2024-01-27 11:38:01.213</td>\n",
       "      <td>W 54 St &amp; 6 Ave</td>\n",
       "      <td>6771.13</td>\n",
       "      <td>E 74 St &amp; 1 Ave</td>\n",
       "      <td>6953.08</td>\n",
       "      <td>40.761779</td>\n",
       "      <td>-73.977144</td>\n",
       "      <td>40.768974</td>\n",
       "      <td>-73.954823</td>\n",
       "      <td>member</td>\n",
       "    </tr>\n",
       "    <tr>\n",
       "      <th>4</th>\n",
       "      <td>6F96728ECEFBDAA4</td>\n",
       "      <td>electric_bike</td>\n",
       "      <td>2024-01-16 15:15:41.000</td>\n",
       "      <td>2024-01-16 15:29:26.156</td>\n",
       "      <td>Madison Ave &amp; E 99 St</td>\n",
       "      <td>7443.01</td>\n",
       "      <td>E 74 St &amp; 1 Ave</td>\n",
       "      <td>6953.08</td>\n",
       "      <td>40.789808</td>\n",
       "      <td>-73.952214</td>\n",
       "      <td>40.768974</td>\n",
       "      <td>-73.954823</td>\n",
       "      <td>member</td>\n",
       "    </tr>\n",
       "  </tbody>\n",
       "</table>\n",
       "</div>"
      ],
      "text/plain": [
       "            ride_id  rideable_type               started_at  \\\n",
       "0  5078F3D302000BD2  electric_bike  2024-01-22 18:43:19.012   \n",
       "1  814337105D37302A  electric_bike  2024-01-11 19:19:18.721   \n",
       "2  A33A920E2B10710C  electric_bike  2024-01-30 19:17:41.693   \n",
       "3  A3A5FC0DD7D34D74  electric_bike  2024-01-27 11:27:01.759   \n",
       "4  6F96728ECEFBDAA4  electric_bike  2024-01-16 15:15:41.000   \n",
       "\n",
       "                  ended_at                  start_station_name  \\\n",
       "0  2024-01-22 18:48:10.708  Frederick Douglass Blvd & W 145 St   \n",
       "1  2024-01-11 19:47:36.007                     W 54 St & 6 Ave   \n",
       "2  2024-01-30 19:32:49.857                     E 11 St & Ave B   \n",
       "3  2024-01-27 11:38:01.213                     W 54 St & 6 Ave   \n",
       "4  2024-01-16 15:29:26.156               Madison Ave & E 99 St   \n",
       "\n",
       "  start_station_id            end_station_name end_station_id  start_lat  \\\n",
       "0          7954.12  St Nicholas Ave & W 126 St        7756.10  40.823072   \n",
       "1          6771.13             E 74 St & 1 Ave        6953.08  40.761822   \n",
       "2          5659.11     W 10 St & Washington St        5847.06  40.727592   \n",
       "3          6771.13             E 74 St & 1 Ave        6953.08  40.761779   \n",
       "4          7443.01             E 74 St & 1 Ave        6953.08  40.789808   \n",
       "\n",
       "   start_lng    end_lat    end_lng member_casual  \n",
       "0 -73.941738  40.811432 -73.951878        member  \n",
       "1 -73.977036  40.768974 -73.954823        member  \n",
       "2 -73.979751  40.733424 -74.008515        casual  \n",
       "3 -73.977144  40.768974 -73.954823        member  \n",
       "4 -73.952214  40.768974 -73.954823        member  "
      ]
     },
     "execution_count": 6,
     "metadata": {},
     "output_type": "execute_result"
    }
   ],
   "source": [
    "path = os.getcwd()\n",
    "csv_files = glob.glob('Resources/*.csv')\n",
    "\n",
    "citibike_df = pd.DataFrame()\n",
    "\n",
    "n=0\n",
    "\n",
    "for csv_file in csv_files:\n",
    "    n+=1    \n",
    "    df = pd.read_csv(csv_file, low_memory=False)\n",
    "    citibike_df = pd.concat([citibike_df, df])\n",
    "    print(n, csv_file)\n",
    "    \n",
    "\n",
    "citibike_df.head()"
   ]
  },
  {
   "cell_type": "code",
   "execution_count": 7,
   "metadata": {},
   "outputs": [
    {
     "data": {
      "text/plain": [
       "(18903880, 13)"
      ]
     },
     "execution_count": 7,
     "metadata": {},
     "output_type": "execute_result"
    }
   ],
   "source": [
    "citibike_df.shape"
   ]
  },
  {
   "cell_type": "code",
   "execution_count": 41,
   "metadata": {},
   "outputs": [
    {
     "data": {
      "text/html": [
       "<div>\n",
       "<style scoped>\n",
       "    .dataframe tbody tr th:only-of-type {\n",
       "        vertical-align: middle;\n",
       "    }\n",
       "\n",
       "    .dataframe tbody tr th {\n",
       "        vertical-align: top;\n",
       "    }\n",
       "\n",
       "    .dataframe thead th {\n",
       "        text-align: right;\n",
       "    }\n",
       "</style>\n",
       "<table border=\"1\" class=\"dataframe\">\n",
       "  <thead>\n",
       "    <tr style=\"text-align: right;\">\n",
       "      <th></th>\n",
       "      <th>start_station_name</th>\n",
       "      <th>count</th>\n",
       "    </tr>\n",
       "  </thead>\n",
       "  <tbody>\n",
       "    <tr>\n",
       "      <th>0</th>\n",
       "      <td>W 21 St &amp; 6 Ave</td>\n",
       "      <td>74053</td>\n",
       "    </tr>\n",
       "    <tr>\n",
       "      <th>1</th>\n",
       "      <td>University Pl &amp; E 14 St</td>\n",
       "      <td>62915</td>\n",
       "    </tr>\n",
       "    <tr>\n",
       "      <th>2</th>\n",
       "      <td>8 Ave &amp; W 31 St</td>\n",
       "      <td>61022</td>\n",
       "    </tr>\n",
       "    <tr>\n",
       "      <th>3</th>\n",
       "      <td>West St &amp; Chambers St</td>\n",
       "      <td>59792</td>\n",
       "    </tr>\n",
       "    <tr>\n",
       "      <th>4</th>\n",
       "      <td>Broadway &amp; W 58 St</td>\n",
       "      <td>58462</td>\n",
       "    </tr>\n",
       "    <tr>\n",
       "      <th>5</th>\n",
       "      <td>Broadway &amp; W 25 St</td>\n",
       "      <td>56075</td>\n",
       "    </tr>\n",
       "    <tr>\n",
       "      <th>6</th>\n",
       "      <td>1 Ave &amp; E 68 St</td>\n",
       "      <td>55721</td>\n",
       "    </tr>\n",
       "    <tr>\n",
       "      <th>7</th>\n",
       "      <td>W 31 St &amp; 7 Ave</td>\n",
       "      <td>53635</td>\n",
       "    </tr>\n",
       "    <tr>\n",
       "      <th>8</th>\n",
       "      <td>11 Ave &amp; W 41 St</td>\n",
       "      <td>53528</td>\n",
       "    </tr>\n",
       "    <tr>\n",
       "      <th>9</th>\n",
       "      <td>Lafayette St &amp; E 8 St</td>\n",
       "      <td>53355</td>\n",
       "    </tr>\n",
       "  </tbody>\n",
       "</table>\n",
       "</div>"
      ],
      "text/plain": [
       "        start_station_name  count\n",
       "0          W 21 St & 6 Ave  74053\n",
       "1  University Pl & E 14 St  62915\n",
       "2          8 Ave & W 31 St  61022\n",
       "3    West St & Chambers St  59792\n",
       "4       Broadway & W 58 St  58462\n",
       "5       Broadway & W 25 St  56075\n",
       "6          1 Ave & E 68 St  55721\n",
       "7          W 31 St & 7 Ave  53635\n",
       "8         11 Ave & W 41 St  53528\n",
       "9    Lafayette St & E 8 St  53355"
      ]
     },
     "execution_count": 41,
     "metadata": {},
     "output_type": "execute_result"
    }
   ],
   "source": [
    "df_start_station_counts = pd.DataFrame(citibike_df.start_station_name.value_counts())\n",
    "df_start_station_counts = df_start_station_counts.reset_index()\n",
    "df_start_station_counts.columns=['start_station_name', 'count']\n",
    "\n",
    "# top 10\n",
    "df_start_station_counts.head(10)\n"
   ]
  },
  {
   "cell_type": "code",
   "execution_count": 48,
   "metadata": {},
   "outputs": [
    {
     "name": "stdout",
     "output_type": "stream",
     "text": [
      "['W 21 St & 6 Ave', 'University Pl & E 14 St', '8 Ave & W 31 St', 'West St & Chambers St', 'Broadway & W 58 St', 'Broadway & W 25 St', '1 Ave & E 68 St', 'W 31 St & 7 Ave', '11 Ave & W 41 St', 'Lafayette St & E 8 St']\n"
     ]
    }
   ],
   "source": [
    "top_10_list = list(df_start_station_counts.head(10)['start_station_name'])\n",
    "print(top_10_list)"
   ]
  },
  {
   "cell_type": "code",
   "execution_count": 51,
   "metadata": {},
   "outputs": [
    {
     "data": {
      "text/html": [
       "<div>\n",
       "<style scoped>\n",
       "    .dataframe tbody tr th:only-of-type {\n",
       "        vertical-align: middle;\n",
       "    }\n",
       "\n",
       "    .dataframe tbody tr th {\n",
       "        vertical-align: top;\n",
       "    }\n",
       "\n",
       "    .dataframe thead th {\n",
       "        text-align: right;\n",
       "    }\n",
       "</style>\n",
       "<table border=\"1\" class=\"dataframe\">\n",
       "  <thead>\n",
       "    <tr style=\"text-align: right;\">\n",
       "      <th></th>\n",
       "      <th>ride_id</th>\n",
       "      <th>rideable_type</th>\n",
       "      <th>started_at</th>\n",
       "      <th>ended_at</th>\n",
       "      <th>start_station_name</th>\n",
       "      <th>start_station_id</th>\n",
       "      <th>end_station_name</th>\n",
       "      <th>end_station_id</th>\n",
       "      <th>start_lat</th>\n",
       "      <th>start_lng</th>\n",
       "      <th>end_lat</th>\n",
       "      <th>end_lng</th>\n",
       "      <th>member_casual</th>\n",
       "    </tr>\n",
       "  </thead>\n",
       "  <tbody>\n",
       "    <tr>\n",
       "      <th>2738</th>\n",
       "      <td>557305B2572E0FE9</td>\n",
       "      <td>classic_bike</td>\n",
       "      <td>2024-01-05 18:24:29.808</td>\n",
       "      <td>2024-01-05 18:32:17.200</td>\n",
       "      <td>W 31 St &amp; 7 Ave</td>\n",
       "      <td>6331.01</td>\n",
       "      <td>Lexington Ave &amp; E 36 St</td>\n",
       "      <td>6313.10</td>\n",
       "      <td>40.749156</td>\n",
       "      <td>-73.991600</td>\n",
       "      <td>40.747574</td>\n",
       "      <td>-73.978801</td>\n",
       "      <td>member</td>\n",
       "    </tr>\n",
       "    <tr>\n",
       "      <th>3020</th>\n",
       "      <td>45920497B9CB97B8</td>\n",
       "      <td>electric_bike</td>\n",
       "      <td>2024-01-10 15:10:10.975</td>\n",
       "      <td>2024-01-10 15:14:58.838</td>\n",
       "      <td>W 31 St &amp; 7 Ave</td>\n",
       "      <td>6331.01</td>\n",
       "      <td>W 42 St &amp; Dyer Ave</td>\n",
       "      <td>6644.07</td>\n",
       "      <td>40.749392</td>\n",
       "      <td>-73.991812</td>\n",
       "      <td>40.758985</td>\n",
       "      <td>-73.993800</td>\n",
       "      <td>member</td>\n",
       "    </tr>\n",
       "    <tr>\n",
       "      <th>3021</th>\n",
       "      <td>C69745FC28CC6C25</td>\n",
       "      <td>classic_bike</td>\n",
       "      <td>2024-01-23 17:28:45.883</td>\n",
       "      <td>2024-01-23 17:38:42.712</td>\n",
       "      <td>W 31 St &amp; 7 Ave</td>\n",
       "      <td>6331.01</td>\n",
       "      <td>E 17 St &amp; Broadway</td>\n",
       "      <td>5980.07</td>\n",
       "      <td>40.749156</td>\n",
       "      <td>-73.991600</td>\n",
       "      <td>40.737050</td>\n",
       "      <td>-73.990093</td>\n",
       "      <td>member</td>\n",
       "    </tr>\n",
       "    <tr>\n",
       "      <th>3024</th>\n",
       "      <td>5682B3FD897DFC69</td>\n",
       "      <td>electric_bike</td>\n",
       "      <td>2024-01-09 10:57:03.893</td>\n",
       "      <td>2024-01-09 11:07:05.326</td>\n",
       "      <td>W 31 St &amp; 7 Ave</td>\n",
       "      <td>6331.01</td>\n",
       "      <td>E 17 St &amp; Broadway</td>\n",
       "      <td>5980.07</td>\n",
       "      <td>40.748677</td>\n",
       "      <td>-73.992467</td>\n",
       "      <td>40.737050</td>\n",
       "      <td>-73.990093</td>\n",
       "      <td>member</td>\n",
       "    </tr>\n",
       "    <tr>\n",
       "      <th>3104</th>\n",
       "      <td>11B2F47850BAD94E</td>\n",
       "      <td>classic_bike</td>\n",
       "      <td>2024-01-20 14:19:09.602</td>\n",
       "      <td>2024-01-20 14:21:42.287</td>\n",
       "      <td>University Pl &amp; E 14 St</td>\n",
       "      <td>5905.14</td>\n",
       "      <td>Broadway &amp; E 19 St</td>\n",
       "      <td>6098.12</td>\n",
       "      <td>40.734814</td>\n",
       "      <td>-73.992085</td>\n",
       "      <td>40.738661</td>\n",
       "      <td>-73.989873</td>\n",
       "      <td>member</td>\n",
       "    </tr>\n",
       "  </tbody>\n",
       "</table>\n",
       "</div>"
      ],
      "text/plain": [
       "               ride_id  rideable_type               started_at  \\\n",
       "2738  557305B2572E0FE9   classic_bike  2024-01-05 18:24:29.808   \n",
       "3020  45920497B9CB97B8  electric_bike  2024-01-10 15:10:10.975   \n",
       "3021  C69745FC28CC6C25   classic_bike  2024-01-23 17:28:45.883   \n",
       "3024  5682B3FD897DFC69  electric_bike  2024-01-09 10:57:03.893   \n",
       "3104  11B2F47850BAD94E   classic_bike  2024-01-20 14:19:09.602   \n",
       "\n",
       "                     ended_at       start_station_name start_station_id  \\\n",
       "2738  2024-01-05 18:32:17.200          W 31 St & 7 Ave          6331.01   \n",
       "3020  2024-01-10 15:14:58.838          W 31 St & 7 Ave          6331.01   \n",
       "3021  2024-01-23 17:38:42.712          W 31 St & 7 Ave          6331.01   \n",
       "3024  2024-01-09 11:07:05.326          W 31 St & 7 Ave          6331.01   \n",
       "3104  2024-01-20 14:21:42.287  University Pl & E 14 St          5905.14   \n",
       "\n",
       "             end_station_name end_station_id  start_lat  start_lng    end_lat  \\\n",
       "2738  Lexington Ave & E 36 St        6313.10  40.749156 -73.991600  40.747574   \n",
       "3020       W 42 St & Dyer Ave        6644.07  40.749392 -73.991812  40.758985   \n",
       "3021       E 17 St & Broadway        5980.07  40.749156 -73.991600  40.737050   \n",
       "3024       E 17 St & Broadway        5980.07  40.748677 -73.992467  40.737050   \n",
       "3104       Broadway & E 19 St        6098.12  40.734814 -73.992085  40.738661   \n",
       "\n",
       "        end_lng member_casual  \n",
       "2738 -73.978801        member  \n",
       "3020 -73.993800        member  \n",
       "3021 -73.990093        member  \n",
       "3024 -73.990093        member  \n",
       "3104 -73.989873        member  "
      ]
     },
     "execution_count": 51,
     "metadata": {},
     "output_type": "execute_result"
    }
   ],
   "source": [
    "df_top_10_start_trip_data = pd.DataFrame(citibike_df[citibike_df['start_station_name'].isin(top_10_list)])\n",
    "df_top_10_start_trip_data.head()"
   ]
  },
  {
   "cell_type": "code",
   "execution_count": 52,
   "metadata": {},
   "outputs": [
    {
     "data": {
      "text/plain": [
       "(588558, 13)"
      ]
     },
     "execution_count": 52,
     "metadata": {},
     "output_type": "execute_result"
    }
   ],
   "source": [
    "df_top_10_start_trip_data.shape"
   ]
  },
  {
   "cell_type": "code",
   "execution_count": 53,
   "metadata": {},
   "outputs": [],
   "source": [
    "file = 'Resources/2024_citibike_tripdata_top10_start_station.csv'\n",
    "df_top_10_start_trip_data.to_csv(file, header=True)"
   ]
  },
  {
   "cell_type": "code",
   "execution_count": null,
   "metadata": {},
   "outputs": [],
   "source": []
  },
  {
   "cell_type": "code",
   "execution_count": 29,
   "metadata": {},
   "outputs": [
    {
     "data": {
      "text/plain": [
       "(74053, 13)"
      ]
     },
     "execution_count": 29,
     "metadata": {},
     "output_type": "execute_result"
    }
   ],
   "source": [
    "most_used_station_df = pd.DataFrame(citibike_df[citibike_df['start_station_name'] == 'W 21 St & 6 Ave'])\n",
    "most_used_station_df.shape"
   ]
  },
  {
   "cell_type": "code",
   "execution_count": 30,
   "metadata": {},
   "outputs": [],
   "source": [
    "file = 'Resources/2024_citibike_tripdata_most_used_start_station.csv'\n",
    "most_used_station_df.to_csv(file, header=True)\n"
   ]
  },
  {
   "cell_type": "code",
   "execution_count": 12,
   "metadata": {},
   "outputs": [],
   "source": [
    "file = 'Resources/2024_citibike_tripdata_combined.txt'\n",
    "citibike_df.to_csv(file, header=True)"
   ]
  },
  {
   "cell_type": "code",
   "execution_count": null,
   "metadata": {},
   "outputs": [],
   "source": []
  }
 ],
 "metadata": {
  "kernelspec": {
   "display_name": "dev",
   "language": "python",
   "name": "python3"
  },
  "language_info": {
   "codemirror_mode": {
    "name": "ipython",
    "version": 3
   },
   "file_extension": ".py",
   "mimetype": "text/x-python",
   "name": "python",
   "nbconvert_exporter": "python",
   "pygments_lexer": "ipython3",
   "version": "3.10.14"
  }
 },
 "nbformat": 4,
 "nbformat_minor": 2
}
